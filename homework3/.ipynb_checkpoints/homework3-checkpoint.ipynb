{
 "cells": [
  {
   "cell_type": "markdown",
   "id": "7dc154fb",
   "metadata": {},
   "source": [
    "# Q1 牛顿法实现逻辑回归\n",
    "\n",
    "## 通过numpy实现"
   ]
  },
  {
   "cell_type": "code",
   "execution_count": 2,
   "id": "83dfb2d0",
   "metadata": {},
   "outputs": [],
   "source": [
    "import numpy as np\n",
    "import pandas as pd\n",
    "import matplotlib.pyplot as plt\n",
    "import statsmodels.api as sm\n",
    "from sklearn.metrics import roc_curve, roc_auc_score, confusion_matrix, ConfusionMatrixDisplay, accuracy_score, recall_score, precision_score, f1_score"
   ]
  },
  {
   "cell_type": "code",
   "execution_count": 2,
   "id": "9a7dc70d",
   "metadata": {},
   "outputs": [],
   "source": [
    "# 以下代码从全局设置字体为Arial Unicode MS，解决显示中文问题\n",
    "plt.rcParams['font.sans-serif'] = ['Arial Unicode MS']\n",
    "\n",
    "# 解决中文字体下坐标轴负数的负号显示问题\n",
    "plt.rcParams['axes.unicode_minus'] = False "
   ]
  },
  {
   "cell_type": "markdown",
   "id": "d1249dcf",
   "metadata": {},
   "source": [
    "Newton-Raphson对权值的更新形式为：\n",
    "\n",
    "$$\\boldsymbol{\\beta^{new}}=\\boldsymbol{\\beta^{old}}-\\boldsymbol{H^{-1}}\\nabla E(\\boldsymbol{\\beta})$$\n",
    "\n",
    "其中$\\boldsymbol{H}$是一个Hessian矩阵，它的元素由$E(\\boldsymbol{\\beta})$关于$\\boldsymbol{\\beta}$的二阶导数组成\n",
    "\n",
    "使用最大似然方法来确定参数，对于一个数据集$\\Phi_n$，$t_n$，其中$t_n \\in \\{0, 1\\}$且$\\phi_n=\\phi(x_n)=(x_1,...,x_m)^T$，其中$m$为向量维数，$n=1,...,N$为样本数目，对似然函数取对数后可以得到\n",
    "\n",
    "$$E(\\boldsymbol{\\beta})=-\\sum_{n=1}^{N}{\\{t_nlny_n+(1-t_n)ln(1-y_n)\\}}$$\n",
    "\n",
    "其中$y_n=p(C_1|\\phi_n)=\\sigma(a_n)$，$C_1$为类别1也即违约，且$a_n=\\boldsymbol{\\beta^{T}}\\phi_n$，两侧关于$\\boldsymbol{\\beta}$取梯度，则有\n",
    "\n",
    "$$\\nabla E(\\boldsymbol{\\beta})=\\sum_{n=1}^{N}{(y_n-t_n)\\phi_n}=\\boldsymbol{\\Phi^T(y-t)}$$\n",
    "\n",
    "其中，$\\boldsymbol{\\Phi}$是$N\\times M$矩阵，第$n$行为$\\phi_n^T$，也就是说$\\boldsymbol{\\Phi^T}$的一列是一个样本向量。同时有\n",
    "\n",
    "$$\\boldsymbol{H}=\\nabla \\nabla E(\\boldsymbol{\\beta})=\\sum_{n=1}^{N}y_n(1-y_n)\\phi_n\\phi_n^T=\\boldsymbol{\\Phi^TR\\Phi}$$\n",
    "\n",
    "引入了一个$N\\times N$的对角矩阵$R$，元素为$R_{nn}=y_n(1-y_n)$\n",
    "\n",
    "于是，模型的Newton-Raphson更新公式为\n",
    "\n",
    "$$\\begin{aligned}\n",
    "& \\boldsymbol{\\beta^{new}}=\\boldsymbol{\\beta^{old}}-\\boldsymbol{(\\Phi^TR\\Phi)^{-1}\\Phi^T(y-t)} \\\\\n",
    "& = \\boldsymbol{(\\Phi^TR\\Phi)^{-1}\\Phi^T\\{R\\Phi\\beta^{old}-(y-t)\\}}\n",
    "\\end{aligned}$$\n",
    "\n"
   ]
  },
  {
   "cell_type": "code",
   "execution_count": 63,
   "id": "a8935119",
   "metadata": {},
   "outputs": [],
   "source": [
    "def sigmoid(matrix, beta):\n",
    "    return 1 / (1 + np.exp(-1 * np.matmul(matrix, beta)))  # 矩阵形式算整个样本"
   ]
  },
  {
   "cell_type": "code",
   "execution_count": 170,
   "id": "b54ae38f",
   "metadata": {},
   "outputs": [],
   "source": [
    "def logistic_reg_ICLR(N, num_of_repeat_exp):  # N为样本量 num_of_repeat_exp为重复实验次数\n",
    "    beta_list = []  # 存放每次实验的结果\n",
    "    for cur_exp in range(num_of_repeat_exp):  # 重复实验\n",
    "        beta = np.array([[-0.5], [0.5], [-1], [1]])  # 新的开始\n",
    "        np.random.seed(cur_exp)  # random seed 第r次重复实验的随机种子设置为r\n",
    "        x = np.random.randn(N, 3)\n",
    "        constant = np.ones(N).reshape(-1, 1)\n",
    "        Phi = np.concatenate((constant, x), axis=1)  # shape (N, 4)\n",
    "\n",
    "        y_0 = sigmoid(Phi, beta)\n",
    "        t = np.random.binomial(1, y_0.flatten()).reshape(N, 1)  # 构造ground truth label\n",
    "\n",
    "        # 设置起始参数beta\n",
    "        beta = np.array([[0], [0], [0], [0]])\n",
    "        \n",
    "        for cur_step in range(100):  # 设置一个最大迭代步数\n",
    "            cur_y = sigmoid(Phi, beta)  # current y, shape (N, 1)\n",
    "            R = np.diag((cur_y * (1 - cur_y)).flatten())  # shape (N, N)\n",
    "            Phi_R_Phi_invese = np.linalg.inv(np.matmul(Phi.transpose(1, 0), np.matmul(R, Phi)))\n",
    "            R_Phi_beta_old = np.matmul(R, np.matmul(Phi, beta))\n",
    "            sub_term = cur_y - t\n",
    "            beta_new = np.matmul(Phi_R_Phi_invese, np.matmul(Phi.transpose(1, 0), R_Phi_beta_old - sub_term))\n",
    "            if np.max(np.abs(beta_new - beta)) < 1e-5:\n",
    "                break\n",
    "            beta = beta_new\n",
    "        \n",
    "        beta_list.append(beta.flatten())  # 进行了一次实验\n",
    "    beta_list = np.array(beta_list)  # shape (num_of_repeat_exp, 4)\n",
    "    return beta_list"
   ]
  },
  {
   "cell_type": "code",
   "execution_count": 180,
   "id": "5c60579d",
   "metadata": {},
   "outputs": [
    {
     "name": "stdout",
     "output_type": "stream",
     "text": [
      "当前样本数为200 估计得到的beta:[-0.52457727  0.51995011 -1.02316741  1.04563786]\n",
      "当前样本数为500 估计得到的beta:[-0.50845502  0.50553362 -1.01308429  1.02942017]\n",
      "当前样本数为750 估计得到的beta:[-0.49508886  0.51494878 -1.01071387  1.00762359]\n",
      "当前样本数为1000 估计得到的beta:[-0.50490139  0.51155299 -1.00808316  1.00740382]\n"
     ]
    }
   ],
   "source": [
    "N = [200, 500, 750, 1000]\n",
    "result = []\n",
    "for cur_N in N:\n",
    "    beta_list = logistic_reg_ICLR(cur_N, 200)\n",
    "    beta_pred = np.mean(beta_list, axis=0)\n",
    "    print(f'当前样本数为{cur_N} 估计得到的beta:{beta_pred}')\n",
    "    result.append(beta_list)"
   ]
  },
  {
   "cell_type": "markdown",
   "id": "ddbc8037",
   "metadata": {},
   "source": [
    "从实验结果来看，样本数目增多后，得到的beta整体上变得更加精确"
   ]
  },
  {
   "cell_type": "code",
   "execution_count": 193,
   "id": "b341ac71",
   "metadata": {},
   "outputs": [
    {
     "data": {
      "image/png": "[encoded data removed]",
      "text/plain": [
       "<Figure size 432x288 with 1 Axes>"
      ]
     },
     "metadata": {
      "needs_background": "light"
     },
     "output_type": "display_data"
    },
    {
     "data": {
      "image/png": "[encoded data removed]",
      "text/plain": [
       "<Figure size 432x288 with 1 Axes>"
      ]
     },
     "metadata": {
      "needs_background": "light"
     },
     "output_type": "display_data"
    },
    {
     "data": {
      "image/png": "[encoded data removed]",
      "text/plain": [
       "<Figure size 432x288 with 1 Axes>"
      ]
     },
     "metadata": {
      "needs_background": "light"
     },
     "output_type": "display_data"
    },
    {
     "data": {
      "image/png": "[encoded data removed]",
      "text/plain": [
       "<Figure size 432x288 with 1 Axes>"
      ]
     },
     "metadata": {
      "needs_background": "light"
     },
     "output_type": "display_data"
    }
   ],
   "source": [
    "# 绘制箱线图\n",
    "for idx,cur_result in enumerate(result):\n",
    "    beta = np.array([-0.5, 0.5, -1, 1])\n",
    "    fig = plt.figure(figsize=(6, 4))\n",
    "    plt.boxplot((cur_result - beta))\n",
    "    plt.title(f'样本量{N[idx]}箱线图')\n",
    "    plt.show()"
   ]
  },
  {
   "cell_type": "markdown",
   "id": "8c9bcf6c",
   "metadata": {},
   "source": [
    "可以观察到以下结论：\n",
    "\n",
    "* 样本数目增加，各个$\\hat{\\beta_j}$的精确度都有所提高，离群点变少了，其中$\\hat{\\beta_2}$的变化最为明显，符合我们“更多的样本有助于消除数据中的噪声”的基本认知\n",
    "* 样本数目增加，各维度$\\hat{\\beta_j}-\\beta_j$的最大值和最小值都趋向0，箱体的Q1和Q3也趋向0，比如$\\hat{\\beta_1}-\\beta_1$的最小值从样本数200的-0.5左右增大到了样本数1000的-0.2左右，估计的结果更准确、更稳定了，说明收集更多的数据样本是提高机器学习算法性能的一种有效方法\n",
    "* 对维度3的估计效果相对差一些，维度3的箱子更宽，上下限距离也更大，说明数据波动程度大，某些实验的估计结果与真实值有这更大的偏离"
   ]
  },
  {
   "cell_type": "markdown",
   "id": "8127b2a4",
   "metadata": {},
   "source": [
    "# Q2 征信系列-用户行为数据分析"
   ]
  },
  {
   "cell_type": "code",
   "execution_count": 3,
   "id": "ab7b1d85",
   "metadata": {},
   "outputs": [],
   "source": [
    "original_data = pd.read_csv('simudata.csv')"
   ]
  },
  {
   "cell_type": "code",
   "execution_count": 4,
   "id": "4784d4f7",
   "metadata": {},
   "outputs": [
    {
     "data": {
      "text/html": [
       "<div>\n",
       "<style scoped>\n",
       "    .dataframe tbody tr th:only-of-type {\n",
       "        vertical-align: middle;\n",
       "    }\n",
       "\n",
       "    .dataframe tbody tr th {\n",
       "        vertical-align: top;\n",
       "    }\n",
       "\n",
       "    .dataframe thead th {\n",
       "        text-align: right;\n",
       "    }\n",
       "</style>\n",
       "<table border=\"1\" class=\"dataframe\">\n",
       "  <thead>\n",
       "    <tr style=\"text-align: right;\">\n",
       "      <th></th>\n",
       "      <th>creded</th>\n",
       "      <th>debitF</th>\n",
       "      <th>meanpay</th>\n",
       "      <th>billnum</th>\n",
       "      <th>debitM</th>\n",
       "      <th>zhongxingM</th>\n",
       "      <th>sidaM</th>\n",
       "      <th>xindaiR</th>\n",
       "      <th>cardnum</th>\n",
       "      <th>xindaiF</th>\n",
       "      <th>...</th>\n",
       "      <th>sidaR</th>\n",
       "      <th>zhongxingF</th>\n",
       "      <th>zhongxingR</th>\n",
       "      <th>xiaofeiF</th>\n",
       "      <th>jinkaF</th>\n",
       "      <th>zhuanzhangM</th>\n",
       "      <th>gongjiaoM</th>\n",
       "      <th>youxiM</th>\n",
       "      <th>xindaiS</th>\n",
       "      <th>black</th>\n",
       "    </tr>\n",
       "  </thead>\n",
       "  <tbody>\n",
       "    <tr>\n",
       "      <th>0</th>\n",
       "      <td>0.02</td>\n",
       "      <td>28</td>\n",
       "      <td>474795</td>\n",
       "      <td>4</td>\n",
       "      <td>784137.54</td>\n",
       "      <td>56826</td>\n",
       "      <td>307042</td>\n",
       "      <td>365.00</td>\n",
       "      <td>2</td>\n",
       "      <td>6</td>\n",
       "      <td>...</td>\n",
       "      <td>7.83</td>\n",
       "      <td>4</td>\n",
       "      <td>334.38</td>\n",
       "      <td>6</td>\n",
       "      <td>9</td>\n",
       "      <td>508646.02</td>\n",
       "      <td>297.83</td>\n",
       "      <td>66.02</td>\n",
       "      <td>5760.22</td>\n",
       "      <td>1</td>\n",
       "    </tr>\n",
       "    <tr>\n",
       "      <th>1</th>\n",
       "      <td>0.16</td>\n",
       "      <td>2</td>\n",
       "      <td>346573</td>\n",
       "      <td>32</td>\n",
       "      <td>1217.43</td>\n",
       "      <td>43644</td>\n",
       "      <td>15096</td>\n",
       "      <td>311.73</td>\n",
       "      <td>9</td>\n",
       "      <td>0</td>\n",
       "      <td>...</td>\n",
       "      <td>91.77</td>\n",
       "      <td>14</td>\n",
       "      <td>365.00</td>\n",
       "      <td>1</td>\n",
       "      <td>11</td>\n",
       "      <td>425876.24</td>\n",
       "      <td>3521.03</td>\n",
       "      <td>22.75</td>\n",
       "      <td>83872.62</td>\n",
       "      <td>1</td>\n",
       "    </tr>\n",
       "    <tr>\n",
       "      <th>2</th>\n",
       "      <td>0.32</td>\n",
       "      <td>56</td>\n",
       "      <td>168844</td>\n",
       "      <td>191</td>\n",
       "      <td>95001.76</td>\n",
       "      <td>279217</td>\n",
       "      <td>69815</td>\n",
       "      <td>42.32</td>\n",
       "      <td>8</td>\n",
       "      <td>0</td>\n",
       "      <td>...</td>\n",
       "      <td>36.05</td>\n",
       "      <td>10</td>\n",
       "      <td>27.08</td>\n",
       "      <td>1</td>\n",
       "      <td>2</td>\n",
       "      <td>492287.84</td>\n",
       "      <td>467.64</td>\n",
       "      <td>6.66</td>\n",
       "      <td>31110.55</td>\n",
       "      <td>1</td>\n",
       "    </tr>\n",
       "    <tr>\n",
       "      <th>3</th>\n",
       "      <td>0.01</td>\n",
       "      <td>28</td>\n",
       "      <td>69002</td>\n",
       "      <td>89</td>\n",
       "      <td>487782.48</td>\n",
       "      <td>273731</td>\n",
       "      <td>329437</td>\n",
       "      <td>81.60</td>\n",
       "      <td>15</td>\n",
       "      <td>1</td>\n",
       "      <td>...</td>\n",
       "      <td>10.08</td>\n",
       "      <td>8</td>\n",
       "      <td>191.04</td>\n",
       "      <td>1</td>\n",
       "      <td>8</td>\n",
       "      <td>240067.26</td>\n",
       "      <td>288.67</td>\n",
       "      <td>119.98</td>\n",
       "      <td>7876.13</td>\n",
       "      <td>1</td>\n",
       "    </tr>\n",
       "    <tr>\n",
       "      <th>4</th>\n",
       "      <td>0.19</td>\n",
       "      <td>6</td>\n",
       "      <td>408647</td>\n",
       "      <td>104</td>\n",
       "      <td>22039.56</td>\n",
       "      <td>13529</td>\n",
       "      <td>24725</td>\n",
       "      <td>254.60</td>\n",
       "      <td>17</td>\n",
       "      <td>9</td>\n",
       "      <td>...</td>\n",
       "      <td>324.21</td>\n",
       "      <td>23</td>\n",
       "      <td>248.39</td>\n",
       "      <td>7</td>\n",
       "      <td>0</td>\n",
       "      <td>455464.47</td>\n",
       "      <td>11834.25</td>\n",
       "      <td>28.97</td>\n",
       "      <td>13765.38</td>\n",
       "      <td>0</td>\n",
       "    </tr>\n",
       "  </tbody>\n",
       "</table>\n",
       "<p>5 rows × 27 columns</p>\n",
       "</div>"
      ],
      "text/plain": [
       "   creded  debitF  meanpay  billnum     debitM  zhongxingM   sidaM  xindaiR  \\\n",
       "0    0.02      28   474795        4  784137.54       56826  307042   365.00   \n",
       "1    0.16       2   346573       32    1217.43       43644   15096   311.73   \n",
       "2    0.32      56   168844      191   95001.76      279217   69815    42.32   \n",
       "3    0.01      28    69002       89  487782.48      273731  329437    81.60   \n",
       "4    0.19       6   408647      104   22039.56       13529   24725   254.60   \n",
       "\n",
       "   cardnum  xindaiF  ...   sidaR  zhongxingF  zhongxingR  xiaofeiF  jinkaF  \\\n",
       "0        2        6  ...    7.83           4      334.38         6       9   \n",
       "1        9        0  ...   91.77          14      365.00         1      11   \n",
       "2        8        0  ...   36.05          10       27.08         1       2   \n",
       "3       15        1  ...   10.08           8      191.04         1       8   \n",
       "4       17        9  ...  324.21          23      248.39         7       0   \n",
       "\n",
       "   zhuanzhangM  gongjiaoM  youxiM   xindaiS  black  \n",
       "0    508646.02     297.83   66.02   5760.22      1  \n",
       "1    425876.24    3521.03   22.75  83872.62      1  \n",
       "2    492287.84     467.64    6.66  31110.55      1  \n",
       "3    240067.26     288.67  119.98   7876.13      1  \n",
       "4    455464.47   11834.25   28.97  13765.38      0  \n",
       "\n",
       "[5 rows x 27 columns]"
      ]
     },
     "execution_count": 4,
     "metadata": {},
     "output_type": "execute_result"
    }
   ],
   "source": [
    "original_data.head()"
   ]
  },
  {
   "cell_type": "code",
   "execution_count": 5,
   "id": "c5d0d74d",
   "metadata": {},
   "outputs": [],
   "source": [
    "data = original_data.dropna()"
   ]
  },
  {
   "cell_type": "code",
   "execution_count": 209,
   "id": "bed55180",
   "metadata": {},
   "outputs": [
    {
     "data": {
      "image/png": "[encoded data removed]",
      "text/plain": [
       "<Figure size 432x288 with 1 Axes>"
      ]
     },
     "metadata": {
      "needs_background": "light"
     },
     "output_type": "display_data"
    }
   ],
   "source": [
    "data.boxplot(column='billnum', by='black', fontsize='large')\n",
    "plt.show()"
   ]
  },
  {
   "cell_type": "code",
   "execution_count": 210,
   "id": "a4bde4e6",
   "metadata": {},
   "outputs": [
    {
     "data": {
      "image/png": "[encoded data removed]",
      "text/plain": [
       "<Figure size 432x288 with 1 Axes>"
      ]
     },
     "metadata": {
      "needs_background": "light"
     },
     "output_type": "display_data"
    }
   ],
   "source": [
    "data.boxplot(column='meanpay', by='black', fontsize='large')\n",
    "plt.show()"
   ]
  },
  {
   "cell_type": "markdown",
   "id": "5a7c70d9",
   "metadata": {},
   "source": [
    "分析如下：\n",
    "* 违约用户的交易笔数的Q2小于未违约用户交易笔数的Q2，违约用户的箱子也更窄，猜测可能违约用户可能更倾向于进行较少的交易，而未违约用户可能更倾向于进行更多的交易。另外，违约用户可能在进行交易时更加谨慎，避免频繁地进行交易，而未违约用户可能更愿意尝试不同的交易方式，导致交易次数更多。\n",
    "* 违约用户的交易均值中位数更低，箱子也更窄，可能是因为违约用户通常有较低的信用评分或财务能力，因此他们通常进行的交易金额较小。另外，未违约用户可能具有更高的信用评分和财务能力，他们可能更容易获得较高的信用额度或更高的收入，从而进行更高金额的交易。"
   ]
  },
  {
   "cell_type": "code",
   "execution_count": 6,
   "id": "6340c093",
   "metadata": {},
   "outputs": [],
   "source": [
    "# 将因变量设置为 'black' 列\n",
    "Y = data['black']\n",
    "\n",
    "# 将自变量设置为其他列\n",
    "X = data.drop('black', axis=1)\n",
    "# 添加截距\n",
    "X = sm.add_constant(X)"
   ]
  },
  {
   "cell_type": "code",
   "execution_count": 7,
   "id": "276512bc",
   "metadata": {},
   "outputs": [],
   "source": [
    "included = []\n",
    "waited_to_be_selected = list(X.columns)\n",
    "last_best_bic = np.inf  # 初始值设置为无限大\n",
    "while waited_to_be_selected:\n",
    "    # 计算每个待添加变量的BIC值\n",
    "    new_bics = []\n",
    "    for col in waited_to_be_selected:\n",
    "        model = sm.Logit(Y, X[included+[col]]).fit(disp=False)\n",
    "        new_bics.append(model.bic)\n",
    "    \n",
    "    # 找到BIC值最小的变量\n",
    "    best_bic = min(new_bics)\n",
    "    best_feature = waited_to_be_selected[new_bics.index(best_bic)]\n",
    "    \n",
    "    # 如果BIC值小于此前最优，则添加进来\n",
    "    if best_bic < last_best_bic:\n",
    "        included.append(best_feature)\n",
    "        waited_to_be_selected.remove(best_feature)\n",
    "        last_best_bic = best_bic\n",
    "    else:  # 无法添加新的特征\n",
    "        break"
   ]
  },
  {
   "cell_type": "code",
   "execution_count": 62,
   "id": "d8956cf3",
   "metadata": {},
   "outputs": [
    {
     "name": "stdout",
     "output_type": "stream",
     "text": [
      "Optimization terminated successfully.\n",
      "         Current function value: 0.473807\n",
      "         Iterations 7\n",
      "                           Logit Regression Results                           \n",
      "==============================================================================\n",
      "Dep. Variable:                  black   No. Observations:                 8032\n",
      "Model:                          Logit   Df Residuals:                     8010\n",
      "Method:                           MLE   Df Model:                           21\n",
      "Date:                Sat, 25 Mar 2023   Pseudo R-squ.:                  0.2559\n",
      "Time:                        15:34:41   Log-Likelihood:                -3805.6\n",
      "converged:                       True   LL-Null:                       -5114.3\n",
      "Covariance Type:            nonrobust   LLR p-value:                     0.000\n",
      "===============================================================================\n",
      "                  coef    std err          z      P>|z|      [0.025      0.975]\n",
      "-------------------------------------------------------------------------------\n",
      "meanpay     -2.322e-06   1.35e-07    -17.150      0.000   -2.59e-06   -2.06e-06\n",
      "creded         -4.0148      0.222    -18.090      0.000      -4.450      -3.580\n",
      "xindaiR         0.0054      0.000     19.493      0.000       0.005       0.006\n",
      "debitF         -0.0117      0.001    -13.415      0.000      -0.013      -0.010\n",
      "cardnum         0.1146      0.007     17.533      0.000       0.102       0.127\n",
      "sidaM       -1.076e-06   1.21e-07     -8.864      0.000   -1.31e-06   -8.38e-07\n",
      "xindaiF         0.1188      0.008     15.181      0.000       0.103       0.134\n",
      "billnum        -0.0041      0.000     -9.808      0.000      -0.005      -0.003\n",
      "zhuanzhangF     0.0171      0.001     13.924      0.000       0.015       0.020\n",
      "const          -7.1009      0.490    -14.483      0.000      -8.062      -6.140\n",
      "maxpay       3.461e-07   2.43e-08     14.241      0.000    2.98e-07    3.94e-07\n",
      "age             0.0678      0.006     10.513      0.000       0.055       0.080\n",
      "gongjiaoF       0.2331      0.021     10.927      0.000       0.191       0.275\n",
      "zhuanzhangR     0.0024      0.000     10.634      0.000       0.002       0.003\n",
      "debitM      -5.524e-07   1.11e-07     -4.997      0.000   -7.69e-07   -3.36e-07\n",
      "gongjiaoR       0.0058      0.001      4.941      0.000       0.004       0.008\n",
      "xiaofeiF        0.0405      0.009      4.419      0.000       0.023       0.058\n",
      "sidaF           0.0048      0.001      4.330      0.000       0.003       0.007\n",
      "gongjiaoM    1.528e-05   3.71e-06      4.115      0.000       8e-06    2.26e-05\n",
      "zhongxingF      0.0125      0.003      3.705      0.000       0.006       0.019\n",
      "jinkaF          0.0141      0.004      3.541      0.000       0.006       0.022\n",
      "zhongxingR      0.0009      0.000      3.376      0.001       0.000       0.001\n",
      "===============================================================================\n"
     ]
    }
   ],
   "source": [
    "# 再次计算\n",
    "results = sm.Logit(Y, X[included]).fit()\n",
    "print(results.summary())"
   ]
  },
  {
   "cell_type": "markdown",
   "id": "be67e01c",
   "metadata": {},
   "source": [
    "* 从p值来看，各个特征的p值都非常小，说明它们都与因变量相关。有的特征系数很小，这与特征的单位有关，比如所有行为均值meanpay和四大行M字段能取到百万级别的数字。\n",
    "* 控制其它变量不变的情况下，行为均值meanpay更小的用户更有可能违约，我们刚才的箱线图也反映了这样的趋势\n",
    "* 控制其它变量不变的情况下，在四大银行消费金额平均值低的用户更可能违约\n",
    "* 控制其它变量不变的情况下，借记类消费金额平均值低的用户更可能违约\n",
    "* 控制其它变量不变的情况下，cardnum也即银行卡数更多的用户更可能违约，猜测可能是这类用户可能是想利用多张卡套现\n",
    "* 控制其它变量不变的情况下，工缴类F也即用户交水，电，煤气费等交易行为频率高的用户更可能违约，可能是这类用户经济状况不佳，可能无法及时支付水、电、煤气费等生活必需品的费用，导致交易行为频率高，并且更可能违约"
   ]
  },
  {
   "cell_type": "code",
   "execution_count": 8,
   "id": "bf0b0fcc",
   "metadata": {},
   "outputs": [],
   "source": [
    "y_pred = results.predict(X[included])"
   ]
  },
  {
   "cell_type": "code",
   "execution_count": 16,
   "id": "786becab",
   "metadata": {},
   "outputs": [
    {
     "data": {
      "image/png": "[encoded data removed]",
      "text/plain": [
       "<Figure size 432x288 with 1 Axes>"
      ]
     },
     "metadata": {
      "needs_background": "light"
     },
     "output_type": "display_data"
    }
   ],
   "source": [
    "# 计算FPR, TPR和阈值\n",
    "fpr, tpr, thresholds = roc_curve(Y, y_pred)\n",
    "\n",
    "# 计算AUC值\n",
    "auc_score = roc_auc_score(Y, y_pred)\n",
    "\n",
    "# 绘制ROC曲线\n",
    "plt.plot(fpr, tpr, label='ROC curve (area = %0.2f)' % auc_score)\n",
    "plt.plot([0, 1], [0, 1], 'k--')\n",
    "plt.xlim([0.0, 1.0])\n",
    "plt.ylim([0.0, 1.05])  # 将y轴范围扩展一些，使得ROC曲线的最高点能够完整地展示出来\n",
    "plt.xlabel('False Positive Rate')\n",
    "plt.ylabel('True Positive Rate')\n",
    "plt.title('Logistic Regression ROC')\n",
    "plt.legend(loc=\"lower right\")\n",
    "plt.show()"
   ]
  },
  {
   "cell_type": "code",
   "execution_count": 14,
   "id": "4f385df6",
   "metadata": {},
   "outputs": [
    {
     "data": {
      "text/plain": [
       "0.8254643263503112"
      ]
     },
     "execution_count": 14,
     "metadata": {},
     "output_type": "execute_result"
    }
   ],
   "source": [
    "auc_score"
   ]
  },
  {
   "cell_type": "code",
   "execution_count": 44,
   "id": "f446c231",
   "metadata": {},
   "outputs": [
    {
     "name": "stdout",
     "output_type": "stream",
     "text": [
      "Confusion Matrix:\n",
      " [[4681  671]\n",
      " [1225 1455]]\n",
      "Accuracy: 0.7639442231075697\n",
      "Recall: 0.542910447761194\n",
      "Precision: 0.6843838193791157\n",
      "F1 score: 0.6054931335830213\n"
     ]
    },
    {
     "data": {
      "image/png": "[encoded data removed]",
      "text/plain": [
       "<Figure size 432x288 with 2 Axes>"
      ]
     },
     "metadata": {
      "needs_background": "light"
     },
     "output_type": "display_data"
    }
   ],
   "source": [
    "y_pred_label = np.where(y_pred > 0.5, 1, 0)\n",
    "cm = confusion_matrix(Y, y_pred_label)\n",
    "\n",
    "\n",
    "# 计算评估指标\n",
    "accuracy = accuracy_score(Y, y_pred_label)\n",
    "recall = recall_score(Y, y_pred_label)\n",
    "precision = precision_score(Y, y_pred_label)\n",
    "f1 = f1_score(Y, y_pred_label)\n",
    "\n",
    "print(\"Confusion Matrix:\\n\", cm)\n",
    "print(\"Accuracy:\", accuracy)\n",
    "print(\"Recall:\", recall)\n",
    "print(\"Precision:\", precision)\n",
    "print(\"F1 score:\", f1)\n",
    "\n",
    "disp = ConfusionMatrixDisplay(confusion_matrix=cm)\n",
    "disp.plot()\n",
    "plt.show()"
   ]
  },
  {
   "cell_type": "markdown",
   "id": "ead0b053",
   "metadata": {},
   "source": [
    "根据曲线的结果，AUC值为0.83，说明模型对数据的预测结果较好\n",
    "\n",
    "设置0.5为划分预测0-1分类的阈值，可以得到混淆矩阵和相应的指标"
   ]
  },
  {
   "cell_type": "code",
   "execution_count": 52,
   "id": "f7038f2a",
   "metadata": {},
   "outputs": [
    {
     "data": {
      "image/png": "[encoded data removed]",
      "text/plain": [
       "<Figure size 432x288 with 1 Axes>"
      ]
     },
     "metadata": {
      "needs_background": "light"
     },
     "output_type": "display_data"
    }
   ],
   "source": [
    "no_default_rate_pred = sorted(list(1 - y_pred), reverse=True)\n",
    "\n",
    "# 将样本分成5组，每组的大小为样本总数的20%\n",
    "group_size = len(no_default_rate_pred) // 5\n",
    "no_default_rate_results = []\n",
    "\n",
    "for i in range(5):\n",
    "    cur_data = no_default_rate_pred[i*group_size:(i+1)*group_size]\n",
    "    no_default_rate_results.append(np.mean(cur_data))\n",
    "    \n",
    "x_ticks = ['Group 1', 'Group 2', 'Group 3', 'Group 4', 'Group 5']\n",
    "plt.bar(x_ticks, no_default_rate_results)\n",
    "plt.xlabel('Group')\n",
    "plt.ylabel('平均非违约概率')\n",
    "plt.show()"
   ]
  },
  {
   "cell_type": "code",
   "execution_count": 56,
   "id": "0f12205b",
   "metadata": {},
   "outputs": [
    {
     "data": {
      "text/plain": [
       "[0.954572318687366,\n",
       " 0.8607471007117066,\n",
       " 0.7267711685000018,\n",
       " 0.5387785301165837,\n",
       " 0.25162357959256254]"
      ]
     },
     "execution_count": 56,
     "metadata": {},
     "output_type": "execute_result"
    }
   ],
   "source": [
    "no_default_rate_results"
   ]
  },
  {
   "cell_type": "markdown",
   "id": "3ad8b67a",
   "metadata": {},
   "source": [
    "从结果来看，非违约率最低的第五组用户有较大可能违约，非违约率预测结果在60%-80%的用户有一定可能违约，在商业应用上首先需要重点关注第五组用户，避免他们违约，可以适当关注第四组用户，可根据非违约率预测结果对第四组用户进行进一步细分，筛选出可能违约的用户。"
   ]
  }
 ],
 "metadata": {
  "kernelspec": {
   "display_name": "Python 3 (ipykernel)",
   "language": "python",
   "name": "python3"
  },
  "language_info": {
   "codemirror_mode": {
    "name": "ipython",
    "version": 3
   },
   "file_extension": ".py",
   "mimetype": "text/x-python",
   "name": "python",
   "nbconvert_exporter": "python",
   "pygments_lexer": "ipython3",
   "version": "3.7.13"
  }
 },
 "nbformat": 4,
 "nbformat_minor": 5
}
