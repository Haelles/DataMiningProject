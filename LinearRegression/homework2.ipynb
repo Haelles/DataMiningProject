{
 "cells": [
  {
   "cell_type": "markdown",
   "id": "b70d25d8",
   "metadata": {},
   "source": [
    "# 证明题"
   ]
  },
  {
   "cell_type": "markdown",
   "id": "8599cc7d",
   "metadata": {},
   "source": [
    "首先写出对数线性回归公式：\n",
    "\n",
    "$$log(y)=\\beta_0+\\beta_1X_1+\\beta_2X_2+...+\\beta_nX_n+\\epsilon$$\n",
    "\n",
    "其中，$\\beta_0,\\beta_1,...,\\beta_n$是模型的回归系数，$X_1,X_2,...,X_n$是自变量，$\\epsilon$是误差项\n",
    "\n",
    "令$\\beta=[\\beta_0,\\beta_1,...,\\beta_n]'$，$X=[X_1,X_2,...,X_n]'$，可以将原等式写为$log(y)=\\beta'X+\\epsilon$\n",
    "\n",
    "发现$\\beta'X+\\epsilon$服从正态分布，因此可知$e^{\\beta'X+\\epsilon}$服从对数正态分布\n",
    "\n",
    "根据对数正态分布的性质，如果$log(S)\\sim N(\\mu,\\sigma^2)$，则$E(S)=e^{\\mu+\\frac{1}{2}\\sigma^2}$\n",
    "\n",
    "因此代入可得，$E(y)=E(e^{\\beta'X+\\epsilon})=e^{\\mu+\\frac{1}{2}\\sigma^2}=e^{\\beta'X+\\frac{1}{2}\\sigma^2}$"
   ]
  },
  {
   "cell_type": "markdown",
   "id": "80836537",
   "metadata": {},
   "source": [
    "# 金融行业岗位分析及算法实现"
   ]
  },
  {
   "cell_type": "code",
   "execution_count": 1,
   "id": "a0be7b18",
   "metadata": {},
   "outputs": [],
   "source": [
    "import numpy as np\n",
    "import pandas as pd\n",
    "import matplotlib.pyplot as plt"
   ]
  },
  {
   "cell_type": "markdown",
   "id": "f29a3b33",
   "metadata": {},
   "source": [
    "## Q1\n",
    "数据读入和数据概览"
   ]
  },
  {
   "cell_type": "code",
   "execution_count": 2,
   "id": "0b00ead1",
   "metadata": {},
   "outputs": [],
   "source": [
    "finance_df_original = pd.read_excel('financejob.xlsx')"
   ]
  },
  {
   "cell_type": "code",
   "execution_count": 5,
   "id": "b5860b52",
   "metadata": {},
   "outputs": [
    {
     "name": "stdout",
     "output_type": "stream",
     "text": [
      "<class 'pandas.core.frame.DataFrame'>\n",
      "RangeIndex: 16195 entries, 0 to 16194\n",
      "Data columns (total 9 columns):\n",
      " #   Column      Non-Null Count  Dtype  \n",
      "---  ------      --------------  -----  \n",
      " 0   company     16195 non-null  object \n",
      " 1   nature      16195 non-null  object \n",
      " 2   size        16195 non-null  object \n",
      " 3   sector      16195 non-null  object \n",
      " 4   position    16173 non-null  object \n",
      " 5   descrip     16160 non-null  object \n",
      " 6   salary      16195 non-null  float64\n",
      " 7   education   16195 non-null  object \n",
      " 8   experience  16195 non-null  object \n",
      "dtypes: float64(1), object(8)\n",
      "memory usage: 1.1+ MB\n"
     ]
    }
   ],
   "source": [
    "# 进行数据概览\n",
    "finance_df_original.info()"
   ]
  },
  {
   "cell_type": "code",
   "execution_count": 3,
   "id": "f8c71fbe",
   "metadata": {},
   "outputs": [
    {
     "data": {
      "text/html": [
       "<div>\n",
       "<style scoped>\n",
       "    .dataframe tbody tr th:only-of-type {\n",
       "        vertical-align: middle;\n",
       "    }\n",
       "\n",
       "    .dataframe tbody tr th {\n",
       "        vertical-align: top;\n",
       "    }\n",
       "\n",
       "    .dataframe thead th {\n",
       "        text-align: right;\n",
       "    }\n",
       "</style>\n",
       "<table border=\"1\" class=\"dataframe\">\n",
       "  <thead>\n",
       "    <tr style=\"text-align: right;\">\n",
       "      <th></th>\n",
       "      <th>company</th>\n",
       "      <th>nature</th>\n",
       "      <th>size</th>\n",
       "      <th>sector</th>\n",
       "      <th>position</th>\n",
       "      <th>descrip</th>\n",
       "      <th>salary</th>\n",
       "      <th>education</th>\n",
       "      <th>experience</th>\n",
       "    </tr>\n",
       "  </thead>\n",
       "  <tbody>\n",
       "    <tr>\n",
       "      <th>0</th>\n",
       "      <td>盛世投资集团</td>\n",
       "      <td>民营</td>\n",
       "      <td>20-99人</td>\n",
       "      <td>基金,证券,期货,投资</td>\n",
       "      <td>文化执行董事</td>\n",
       "      <td>岗位职责潜在LP挖掘及转化　潜在合作渠道开发及转化　分析文化行业投资机会，寻找和洽谈潜在投资...</td>\n",
       "      <td>25000.5</td>\n",
       "      <td>不限</td>\n",
       "      <td>不限</td>\n",
       "    </tr>\n",
       "    <tr>\n",
       "      <th>1</th>\n",
       "      <td>北京东扬国际投资管理有限公司</td>\n",
       "      <td>民营</td>\n",
       "      <td>100-499人</td>\n",
       "      <td>基金,证券,期货,投资</td>\n",
       "      <td>文员助理</td>\n",
       "      <td>岗位职责1起草和修改报告文稿等；2及时准确的更新员工通讯录；管理公司网络邮箱；3负责日常办...</td>\n",
       "      <td>9000.5</td>\n",
       "      <td>不限</td>\n",
       "      <td>不限</td>\n",
       "    </tr>\n",
       "    <tr>\n",
       "      <th>2</th>\n",
       "      <td>盈创置地北京投资有限公司</td>\n",
       "      <td>合资</td>\n",
       "      <td>20-99人</td>\n",
       "      <td>基金,证券,期货,投资</td>\n",
       "      <td>物业公司总经理_唐山_</td>\n",
       "      <td>职位描述　　　　　　 1根据集团发展战略，全面实施物业公司的经营方针，主持物业公司的日常生产...</td>\n",
       "      <td>40000.5</td>\n",
       "      <td>大专</td>\n",
       "      <td>5_10年</td>\n",
       "    </tr>\n",
       "    <tr>\n",
       "      <th>3</th>\n",
       "      <td>首创证券有限责任公司</td>\n",
       "      <td>股份制企业</td>\n",
       "      <td>500-999人</td>\n",
       "      <td>基金,证券,期货,投资</td>\n",
       "      <td>固定收益事业部_发行项目承做</td>\n",
       "      <td>岗位职责1 项目承揽阶段，协助开展客户开发和项目承接工作，制作项目建议书等；2 项目实施阶段...</td>\n",
       "      <td>9000.5</td>\n",
       "      <td>硕士及以上</td>\n",
       "      <td>1_3年</td>\n",
       "    </tr>\n",
       "    <tr>\n",
       "      <th>4</th>\n",
       "      <td>北京友财投资管理有限公司</td>\n",
       "      <td>民营</td>\n",
       "      <td>20-99人</td>\n",
       "      <td>基金,证券,期货,投资</td>\n",
       "      <td>债权投资助理</td>\n",
       "      <td>岗位职责1寻找项目投资机会，包括债权和股权项目；2项目分析，包括对接融资方企业尽调项目分析上...</td>\n",
       "      <td>9000.5</td>\n",
       "      <td>本科</td>\n",
       "      <td>1_3年</td>\n",
       "    </tr>\n",
       "  </tbody>\n",
       "</table>\n",
       "</div>"
      ],
      "text/plain": [
       "          company nature      size       sector        position  \\\n",
       "0          盛世投资集团     民营    20-99人  基金,证券,期货,投资          文化执行董事   \n",
       "1  北京东扬国际投资管理有限公司     民营  100-499人  基金,证券,期货,投资            文员助理   \n",
       "2    盈创置地北京投资有限公司     合资    20-99人  基金,证券,期货,投资     物业公司总经理_唐山_   \n",
       "3      首创证券有限责任公司  股份制企业  500-999人  基金,证券,期货,投资  固定收益事业部_发行项目承做   \n",
       "4    北京友财投资管理有限公司     民营    20-99人  基金,证券,期货,投资          债权投资助理   \n",
       "\n",
       "                                             descrip   salary education  \\\n",
       "0  岗位职责潜在LP挖掘及转化　潜在合作渠道开发及转化　分析文化行业投资机会，寻找和洽谈潜在投资...  25000.5        不限   \n",
       "1  　岗位职责1起草和修改报告文稿等；2及时准确的更新员工通讯录；管理公司网络邮箱；3负责日常办...   9000.5        不限   \n",
       "2  职位描述　　　　　　 1根据集团发展战略，全面实施物业公司的经营方针，主持物业公司的日常生产...  40000.5        大专   \n",
       "3  岗位职责1 项目承揽阶段，协助开展客户开发和项目承接工作，制作项目建议书等；2 项目实施阶段...   9000.5     硕士及以上   \n",
       "4  岗位职责1寻找项目投资机会，包括债权和股权项目；2项目分析，包括对接融资方企业尽调项目分析上...   9000.5        本科   \n",
       "\n",
       "  experience  \n",
       "0         不限  \n",
       "1         不限  \n",
       "2      5_10年  \n",
       "3       1_3年  \n",
       "4       1_3年  "
      ]
     },
     "execution_count": 3,
     "metadata": {},
     "output_type": "execute_result"
    }
   ],
   "source": [
    "finance_df_original.head()"
   ]
  },
  {
   "cell_type": "code",
   "execution_count": 59,
   "id": "e5fd25e8",
   "metadata": {},
   "outputs": [],
   "source": [
    "# 根据要求，保留expericence的7个字段：不限，无经验，1年以下，1-3年，3-5年，5-10年，10年以上\n",
    "# 定义包含所需取值的列表\n",
    "experience_list = ['不限', '无经验', '1年以下', '1_3年', '3_5年', '5_10年', '10年以上']\n",
    "\n",
    "# 筛选'experience'列中取值在指定列表中的行\n",
    "finance_df = finance_df_original[finance_df_original['experience'].isin(experience_list)].copy()"
   ]
  },
  {
   "cell_type": "markdown",
   "id": "db0e3063",
   "metadata": {},
   "source": [
    "## Q2\n",
    "对数变换"
   ]
  },
  {
   "cell_type": "code",
   "execution_count": 76,
   "id": "87923116",
   "metadata": {},
   "outputs": [],
   "source": [
    "# 对'salary'列进行对数变换，结果保存为'lnsalary'列\n",
    "finance_df['lnsalary'] = np.log(finance_df['salary'])"
   ]
  },
  {
   "cell_type": "markdown",
   "id": "7eb56235",
   "metadata": {},
   "source": [
    "## Q3\n",
    "绘制直方图"
   ]
  },
  {
   "cell_type": "code",
   "execution_count": 42,
   "id": "6b6ea2b2",
   "metadata": {},
   "outputs": [
    {
     "data": {
      "image/png": "[encoded data removed]",
      "text/plain": [
       "<Figure size 432x288 with 1 Axes>"
      ]
     },
     "metadata": {
      "needs_background": "light"
     },
     "output_type": "display_data"
    }
   ],
   "source": [
    "# 绘制'lnsalary'列的直方图\n",
    "plt.hist(finance_df['lnsalary'], bins=10, color='green', alpha=0.8, edgecolor='white')\n",
    "\n",
    "# 添加标题和轴标签\n",
    "plt.grid()\n",
    "plt.title('Histogram of Incomes (log-transformed)')\n",
    "plt.xlabel('Logarithm of Salary')\n",
    "plt.ylabel('Frequency')\n",
    "\n",
    "# 显示图形\n",
    "plt.show()"
   ]
  },
  {
   "cell_type": "code",
   "execution_count": 27,
   "id": "eef3b38f",
   "metadata": {},
   "outputs": [
    {
     "data": {
      "text/plain": [
       "count    16191.000000\n",
       "mean         9.282878\n",
       "std          0.604465\n",
       "min          7.467371\n",
       "25%          8.853737\n",
       "50%          9.105035\n",
       "75%          9.615805\n",
       "max         11.652687\n",
       "Name: lnsalary, dtype: float64"
      ]
     },
     "execution_count": 27,
     "metadata": {},
     "output_type": "execute_result"
    }
   ],
   "source": [
    "finance_df['lnsalary'].describe()"
   ]
  },
  {
   "cell_type": "markdown",
   "id": "a8b37a4e",
   "metadata": {},
   "source": [
    "从对数薪资直方图来看，数据呈现右偏分布，9左右的对数薪资频数最高，超过了6000。平均对数薪资为9.28，中位数对数薪资为9.11，说明少数高薪资拉高了平均水平。最高对数薪资为11.65，最低为7.47。"
   ]
  },
  {
   "cell_type": "markdown",
   "id": "e32fa6e1",
   "metadata": {},
   "source": [
    "## Q4\n",
    "绘制箱线图"
   ]
  },
  {
   "cell_type": "code",
   "execution_count": 36,
   "id": "3e734103",
   "metadata": {},
   "outputs": [],
   "source": [
    "# 以下代码从全局设置字体为Arial Unicode MS，解决显示中文问题\n",
    "plt.rcParams['font.sans-serif'] = ['Arial Unicode MS']\n",
    "\n",
    "# 解决中文字体下坐标轴负数的负号显示问题\n",
    "plt.rcParams['axes.unicode_minus'] = False "
   ]
  },
  {
   "cell_type": "code",
   "execution_count": 45,
   "id": "52804c0c",
   "metadata": {},
   "outputs": [
    {
     "data": {
      "image/png": "[encoded data removed]",
      "text/plain": [
       "<Figure size 864x576 with 1 Axes>"
      ]
     },
     "metadata": {
      "needs_background": "light"
     },
     "output_type": "display_data"
    }
   ],
   "source": [
    "finance_df.boxplot(column='lnsalary', by='nature', figsize=(12, 8), fontsize='large')\n",
    "plt.show()"
   ]
  },
  {
   "cell_type": "markdown",
   "id": "edab5685",
   "metadata": {},
   "source": [
    "从箱线图中可以看出，外商独资和其他、民营这三类的对数薪资整体上比较高，外商独资的最值高于其它6类公司，且其Q1约等于国企的Q2，这些数据表现也符合大众的预期，即去外资、民营企业一般能拿到更高的工资。\n",
    "\n",
    "从箱子宽度也即薪资范围来看，合资、国企、股份制企业的薪资范围比较窄，说明在这些企业更有可能“吃大锅饭”。\n",
    "\n",
    "从离群值来看，外商独资、上市公司、其他这三类公司的离群值数量很少，而国企、合资、股份制企业的离群值较多，且大都是高于最大值，说明在这些地方存在少部分员工能获得非常高的薪资。"
   ]
  },
  {
   "cell_type": "markdown",
   "id": "ba2fbceb",
   "metadata": {},
   "source": [
    "## Q5\n",
    "回归分析"
   ]
  },
  {
   "cell_type": "code",
   "execution_count": 57,
   "id": "ae3bc5cc",
   "metadata": {},
   "outputs": [],
   "source": [
    "dummy_base = ['国企', '20人以下', '银行', '本科', '1_3年']\n",
    "x_sector = ['nature', 'size', 'sector', 'education', 'experience']"
   ]
  },
  {
   "cell_type": "code",
   "execution_count": 62,
   "id": "e90c88ca",
   "metadata": {},
   "outputs": [],
   "source": [
    "for idx, cur_dummy_base in enumerate(dummy_base):\n",
    "    cur_x_sector = x_sector[idx]\n",
    "    \n",
    "    # 将原始数据集中的列转换为分类变量类型\n",
    "    finance_df[cur_x_sector] = finance_df[cur_x_sector].astype('category')\n",
    "    \n",
    "    # 使用get_dummies()函数来创建dummy\n",
    "    cur_dummy = pd.get_dummies(finance_df[cur_x_sector], prefix=cur_x_sector)\n",
    "    \n",
    "    # 将创建的dummy列与原始数据集合并\n",
    "    finance_df = pd.concat([finance_df, cur_dummy], axis=1)\n",
    "    \n",
    "    # 删除基准组\n",
    "    finance_df = finance_df.drop(columns=[cur_x_sector + '_' + cur_dummy_base])"
   ]
  },
  {
   "cell_type": "code",
   "execution_count": 65,
   "id": "cc340087",
   "metadata": {},
   "outputs": [
    {
     "data": {
      "text/plain": [
       "Index(['company', 'nature', 'size', 'sector', 'position', 'descrip', 'salary',\n",
       "       'education', 'experience', 'nature_上市公司', 'nature_其他', 'nature_合资',\n",
       "       'nature_外商独资', 'nature_民营', 'nature_股份制企业', 'size_100-499人',\n",
       "       'size_1000-9999人', 'size_10000人以上', 'size_20-99人', 'size_500-999人',\n",
       "       'sector_保险', 'sector_信托,担保,拍卖,典当', 'sector_基金,证券,期货,投资', 'education_不限',\n",
       "       'education_大专', 'education_硕士及以上', 'experience_10年以上',\n",
       "       'experience_1年以下', 'experience_3_5年', 'experience_5_10年',\n",
       "       'experience_不限', 'experience_无经验'],\n",
       "      dtype='object')"
      ]
     },
     "execution_count": 65,
     "metadata": {},
     "output_type": "execute_result"
    }
   ],
   "source": [
    "finance_df.iloc[0].keys()"
   ]
  },
  {
   "cell_type": "code",
   "execution_count": 69,
   "id": "baf72c76",
   "metadata": {},
   "outputs": [],
   "source": [
    "import statsmodels.api as sm"
   ]
  },
  {
   "cell_type": "code",
   "execution_count": 73,
   "id": "a43eb90c",
   "metadata": {},
   "outputs": [],
   "source": [
    "# 自变量的字段都带有下划线，用正则取出来\n",
    "X_index = finance_df.filter(regex='_').columns"
   ]
  },
  {
   "cell_type": "code",
   "execution_count": 77,
   "id": "53ea34d9",
   "metadata": {},
   "outputs": [],
   "source": [
    "X = finance_df[X_index].copy()\n",
    "y = finance_df['lnsalary']"
   ]
  },
  {
   "cell_type": "code",
   "execution_count": 79,
   "id": "d9af16a2",
   "metadata": {},
   "outputs": [],
   "source": [
    "# 添加常数项，用于估计截距\n",
    "X = sm.add_constant(X)"
   ]
  },
  {
   "cell_type": "code",
   "execution_count": 82,
   "id": "ba5d96c0",
   "metadata": {},
   "outputs": [],
   "source": [
    "# 构建线性回归模型\n",
    "model = sm.OLS(y, X)"
   ]
  },
  {
   "cell_type": "code",
   "execution_count": 84,
   "id": "00d84ac5",
   "metadata": {},
   "outputs": [],
   "source": [
    "# 拟合线性回归模型\n",
    "results = model.fit()"
   ]
  },
  {
   "cell_type": "code",
   "execution_count": 87,
   "id": "d6d3fd6b",
   "metadata": {},
   "outputs": [
    {
     "name": "stdout",
     "output_type": "stream",
     "text": [
      "                            OLS Regression Results                            \n",
      "==============================================================================\n",
      "Dep. Variable:               lnsalary   R-squared:                       0.304\n",
      "Model:                            OLS   Adj. R-squared:                  0.303\n",
      "Method:                 Least Squares   F-statistic:                     306.5\n",
      "Date:                Sun, 19 Mar 2023   Prob (F-statistic):               0.00\n",
      "Time:                        19:17:38   Log-Likelihood:                -11893.\n",
      "No. Observations:               16191   AIC:                         2.383e+04\n",
      "Df Residuals:                   16167   BIC:                         2.402e+04\n",
      "Df Model:                          23                                         \n",
      "Covariance Type:            nonrobust                                         \n",
      "======================================================================================\n",
      "                         coef    std err          t      P>|t|      [0.025      0.975]\n",
      "--------------------------------------------------------------------------------------\n",
      "const                  9.0896      0.037    243.436      0.000       9.016       9.163\n",
      "nature_上市公司            0.1329      0.025      5.314      0.000       0.084       0.182\n",
      "nature_其他              0.0947      0.029      3.256      0.001       0.038       0.152\n",
      "nature_合资              0.1738      0.017     10.322      0.000       0.141       0.207\n",
      "nature_外商独资            0.2387      0.029      8.370      0.000       0.183       0.295\n",
      "nature_民营              0.0862      0.015      5.789      0.000       0.057       0.115\n",
      "nature_股份制企业           0.0926      0.015      6.252      0.000       0.064       0.122\n",
      "size_100-499人         -0.0607      0.026     -2.341      0.019      -0.112      -0.010\n",
      "size_1000-9999人       -0.0840      0.027     -3.092      0.002      -0.137      -0.031\n",
      "size_10000人以上          0.1799      0.029      6.257      0.000       0.124       0.236\n",
      "size_20-99人           -0.0686      0.027     -2.579      0.010      -0.121      -0.016\n",
      "size_500-999人         -0.0333      0.027     -1.226      0.220      -0.087       0.020\n",
      "sector_保险             -0.0472      0.028     -1.677      0.094      -0.102       0.008\n",
      "sector_信托,担保,拍卖,典当    -0.0879      0.033     -2.650      0.008      -0.153      -0.023\n",
      "sector_基金,证券,期货,投资     0.0167      0.026      0.654      0.513      -0.033       0.067\n",
      "education_不限           0.0613      0.013      4.844      0.000       0.036       0.086\n",
      "education_大专          -0.2013      0.010    -19.987      0.000      -0.221      -0.182\n",
      "education_硕士及以上        0.2310      0.019     12.290      0.000       0.194       0.268\n",
      "experience_10年以上       1.2517      0.032     38.616      0.000       1.188       1.315\n",
      "experience_1年以下        0.0637      0.027      2.368      0.018       0.011       0.117\n",
      "experience_3_5年        0.4006      0.014     29.318      0.000       0.374       0.427\n",
      "experience_5_10年       0.8007      0.016     49.342      0.000       0.769       0.832\n",
      "experience_不限          0.0245      0.011      2.137      0.033       0.002       0.047\n",
      "experience_无经验        -0.1410      0.032     -4.355      0.000      -0.204      -0.078\n",
      "==============================================================================\n",
      "Omnibus:                     1466.816   Durbin-Watson:                   1.594\n",
      "Prob(Omnibus):                  0.000   Jarque-Bera (JB):             2719.697\n",
      "Skew:                           0.627   Prob(JB):                         0.00\n",
      "Kurtosis:                       4.568   Cond. No.                         26.6\n",
      "==============================================================================\n",
      "\n",
      "Notes:\n",
      "[1] Standard Errors assume that the covariance matrix of the errors is correctly specified.\n"
     ]
    }
   ],
   "source": [
    "print(results.summary())"
   ]
  },
  {
   "cell_type": "markdown",
   "id": "c8cb7f09",
   "metadata": {},
   "source": [
    "从结果来看，常数项的t值非常大，p值小于0.05，说明这个项对因变量有显著影响，也反映了基准组（国企、公司规模20人以下、工作于银行、本科学历、工作1-3年）的薪资水平。\n",
    "\n",
    "从公司属性这一类别的系数来看，外商独资、合资的系数比较大，说明其它解释变量不变时，外商独资和合资公司相对于国企对薪资水平的影响较大，分别高0.2387、0.1738，它们的t值都大于2.58，在1%的水平下显著。\n",
    "\n",
    "从公司规模来看，只有10000人以上的系数是正的，说明在其它解释变量不变时，与规模20人以下相比，仅10000人以上的公司规模对薪资水平有正向影响。这可能反映了大型公司在资源和品牌方面的优势，或者反映了大型公司对员工薪资给予了更高的激励。\n",
    "\n",
    "从公司行业来看，基金,证券,期货,投资有一个正的系数，但是t值比较小，p值大于0.05，这可能表明这些行业对相对于银行行业对薪资的影响相对较弱，并且这种影响不太稳定，需要更多的数据支持来验证。同样，保险行业也是t值比较小，p值大于0.05，只有信托,担保,拍卖,典当行业的系数对因变量的影响是显著存在的，而且是一个负面的影响。\n",
    "\n",
    "从教育来看，硕士及以上有着明显的正向影响，大专学历对薪资有着明显的负面影响，从t值、p值看有足够的证据表明对因变量的影响是存在的。\n",
    "\n",
    "从工作经验看，无工作经验有着明显负面影响，3-5年、5-10年、10年以上都有着正面影响。"
   ]
  },
  {
   "cell_type": "markdown",
   "id": "a9efd585",
   "metadata": {},
   "source": [
    "## Q6\n",
    "BIC准则"
   ]
  },
  {
   "cell_type": "code",
   "execution_count": null,
   "id": "89ad14b7",
   "metadata": {},
   "outputs": [],
   "source": [
    "from sklearn.linear_model import LassoLarsIC"
   ]
  },
  {
   "cell_type": "markdown",
   "id": "90cf8962",
   "metadata": {},
   "source": [
    "Lasso模型是一种线性回归模型，它在损失函数中加入了一个L1正则项，可以使得一些回归系数变为零，从而实现变量选择。BIC准则可以用来选择最优的正则化参数alpha，也就是控制L1正则项强度的参数。我们使用sklearn.linear_model中的LassoLarsIC模型来利用BIC准则进行变量选择。"
   ]
  },
  {
   "cell_type": "code",
   "execution_count": 96,
   "id": "b05e622f",
   "metadata": {},
   "outputs": [
    {
     "name": "stdout",
     "output_type": "stream",
     "text": [
      "4.503580219632448e-06\n",
      "(array([ 1,  2,  3,  4,  5,  6,  7,  8,  9, 10, 12, 13, 14, 15, 16, 17, 18,\n",
      "       19, 20, 21, 22, 23]),)\n"
     ]
    }
   ],
   "source": [
    "# 定义Lasso模型，并设置criterion为bic\n",
    "lasso_model = LassoLarsIC(criterion='bic')\n",
    "\n",
    "# 拟合数据\n",
    "lasso_model.fit(X, y)\n",
    "\n",
    "# 查看最优的alpha值\n",
    "print(lasso_model.alpha_)\n",
    "\n",
    "# 查看非零系数对应的自变量索引\n",
    "print(np.nonzero(lasso_model.coef_))"
   ]
  },
  {
   "cell_type": "code",
   "execution_count": 101,
   "id": "37fcf103",
   "metadata": {},
   "outputs": [
    {
     "data": {
      "text/plain": [
       "Index(['nature_上市公司', 'nature_其他', 'nature_合资', 'nature_外商独资', 'nature_民营',\n",
       "       'nature_股份制企业', 'size_100-499人', 'size_1000-9999人', 'size_10000人以上',\n",
       "       'size_20-99人', 'sector_保险', 'sector_信托,担保,拍卖,典当', 'sector_基金,证券,期货,投资',\n",
       "       'education_不限', 'education_大专', 'education_硕士及以上', 'experience_10年以上',\n",
       "       'experience_1年以下', 'experience_3_5年', 'experience_5_10年',\n",
       "       'experience_不限', 'experience_无经验'],\n",
       "      dtype='object')"
      ]
     },
     "execution_count": 101,
     "metadata": {},
     "output_type": "execute_result"
    }
   ],
   "source": [
    "selected_columns = X.columns[lasso_model.coef_ != 0]\n",
    "selected_columns"
   ]
  },
  {
   "cell_type": "markdown",
   "id": "6f4c4144",
   "metadata": {},
   "source": [
    "从结果来看，只有size公司规模这个类的500-999人被去掉了，说明公司规模为100-499人的样本和其他规模的样本没有明显的差异，或是这个自变量和其它自变量有较强的共线性。在之前线性回归模型的结果中，其p值为0.220，确实也说明可以考虑将其从模型中去除。\n",
    "\n",
    "不过OLS模型结果中同样p值大的'sector_基金,证券,期货,投资'没有被去掉，可能是因为OLS是通过检验的p值来判断它是否显著影响因变量，LassoLarsIC是通过BIC来选择最优的正则化参数alpha，两种模型可能会得到不同的结果。"
   ]
  },
  {
   "cell_type": "markdown",
   "id": "9c105ea6",
   "metadata": {},
   "source": [
    "## Q7\n",
    "交叉验证"
   ]
  },
  {
   "cell_type": "code",
   "execution_count": 120,
   "id": "19606c6f",
   "metadata": {},
   "outputs": [],
   "source": [
    "from sklearn.model_selection import KFold"
   ]
  },
  {
   "cell_type": "code",
   "execution_count": 109,
   "id": "74499bc2",
   "metadata": {},
   "outputs": [],
   "source": [
    "kf = KFold(n_splits=5, shuffle=True)"
   ]
  },
  {
   "cell_type": "code",
   "execution_count": 127,
   "id": "d3655841",
   "metadata": {},
   "outputs": [],
   "source": [
    "# 选择selected_columns作为列索引进行筛选\n",
    "X_selected = X.loc[:, selected_columns]\n",
    "# 添加截距项\n",
    "X_selected = sm.add_constant(X_selected)"
   ]
  },
  {
   "cell_type": "code",
   "execution_count": 130,
   "id": "d1346d22",
   "metadata": {},
   "outputs": [],
   "source": [
    "results = []\n",
    "for train_index, test_index in kf.split(X_selected):\n",
    "    # 分割训练集和测试集\n",
    "    X_train, X_test = X_selected.iloc[train_index], X_selected.iloc[test_index]\n",
    "    y_train, y_test = y.iloc[train_index], y.iloc[test_index]\n",
    "    \n",
    "    # 训练模型\n",
    "    model = sm.OLS(y_train, X_train).fit()\n",
    "    \n",
    "    # 用测试集进行预测\n",
    "    y_pred = model.predict(X_test)\n",
    "    \n",
    "    # 计算评估指标并保存结果\n",
    "    mse = np.mean((y_pred - y_test) ** 2)\n",
    "    results.append(mse)"
   ]
  },
  {
   "cell_type": "code",
   "execution_count": 131,
   "id": "6a1ba8aa",
   "metadata": {},
   "outputs": [
    {
     "data": {
      "text/plain": [
       "[0.2548431110334755,\n",
       " 0.25046918426484543,\n",
       " 0.2572130319435207,\n",
       " 0.2521357846215785,\n",
       " 0.26173599942255693]"
      ]
     },
     "execution_count": 131,
     "metadata": {},
     "output_type": "execute_result"
    }
   ],
   "source": [
    "results"
   ]
  },
  {
   "cell_type": "code",
   "execution_count": 132,
   "id": "1ae56102",
   "metadata": {},
   "outputs": [
    {
     "data": {
      "text/plain": [
       "0.2552794222571954"
      ]
     },
     "execution_count": 132,
     "metadata": {},
     "output_type": "execute_result"
    }
   ],
   "source": [
    "np.mean(results)"
   ]
  },
  {
   "cell_type": "code",
   "execution_count": 133,
   "id": "574f84a9",
   "metadata": {},
   "outputs": [
    {
     "data": {
      "text/plain": [
       "0.003965789952137581"
      ]
     },
     "execution_count": 133,
     "metadata": {},
     "output_type": "execute_result"
    }
   ],
   "source": [
    "np.std(results)"
   ]
  },
  {
   "cell_type": "markdown",
   "id": "c9599e20",
   "metadata": {},
   "source": [
    "各次验证的均方误差都比较小，在0.255左右，说明模型的预测误差是比较小的，标准差为0.004，也比较小，说明模型的预测结果比较稳定"
   ]
  }
 ],
 "metadata": {
  "kernelspec": {
   "display_name": "Python 3 (ipykernel)",
   "language": "python",
   "name": "python3"
  },
  "language_info": {
   "codemirror_mode": {
    "name": "ipython",
    "version": 3
   },
   "file_extension": ".py",
   "mimetype": "text/x-python",
   "name": "python",
   "nbconvert_exporter": "python",
   "pygments_lexer": "ipython3",
   "version": "3.7.13"
  }
 },
 "nbformat": 4,
 "nbformat_minor": 5
}
